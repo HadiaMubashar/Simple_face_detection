{
 "cells": [
  {
   "cell_type": "code",
   "execution_count": 1,
   "id": "c7153449",
   "metadata": {},
   "outputs": [],
   "source": [
    "import cv2\n",
    "import numpy as np"
   ]
  },
  {
   "cell_type": "code",
   "execution_count": 2,
   "id": "b4ce2dff",
   "metadata": {},
   "outputs": [
    {
     "name": "stdout",
     "output_type": "stream",
     "text": [
      "Number of people faces found: 9\n"
     ]
    }
   ],
   "source": [
    "img = cv2.imread(\"Resources/groupface.jpg\")\n",
    "gray = cv2.cvtColor(img, cv2.COLOR_BGR2GRAY)\n",
    "\n",
    "haar_cascade = cv2.CascadeClassifier(\"XML//haarcascade_frontalface_default.xml\")\n",
    "\n",
    "faces = haar_cascade.detectMultiScale(gray, 1.1, 5)\n",
    "print(f'Number of people faces found: {len(faces)}')\n",
    "\n",
    "for (x, y, w, h) in faces:\n",
    "    cv2.rectangle(img, (x, y), (x+w, y+h), (0, 255, 0), 3)\n",
    "    cv2.putText(img, \"Face\",(x, y), cv2.FONT_HERSHEY_COMPLEX, 0.8, (0, 255, 0), 2)\n",
    "\n",
    "cv2.imshow(\"Detected Face\",img)\n",
    "\n",
    "k = cv2.waitKey(0)\n",
    "if k == 27:\n",
    "    cv2.destroyAllWindows()\n",
    "elif k == ord('s'):\n",
    "    cv2.imwrite(\"detectedfaces.jpg\", img)\n",
    "    cv2.destroyAllWindows()"
   ]
  },
  {
   "cell_type": "code",
   "execution_count": 3,
   "id": "a9a0d48b",
   "metadata": {},
   "outputs": [],
   "source": [
    "# using cam\n",
    "cap = cv2.VideoCapture(0)\n",
    " \n",
    "while True:\n",
    "    ret, frame = cap.read()\n",
    "    \n",
    "    gray = cv2.cvtColor(frame, cv2.COLOR_BGR2GRAY)\n",
    "\n",
    "    haar_cascade = cv2.CascadeClassifier(\"XML//haarcascade_frontalface_default.xml\")\n",
    "\n",
    "    faces = haar_cascade.detectMultiScale(gray, 1.1, 5)\n",
    "\n",
    "    for (x, y, w, h) in faces:\n",
    "        cv2.rectangle(frame, (x, y), (x+w, y+h), (0, 255, 0), 3)\n",
    "        cv2.putText(frame, \"Face\",(x, y), cv2.FONT_HERSHEY_COMPLEX, 1, (0, 255, 0), 2)\n",
    "\n",
    "    cv2.imshow(\"Detected Face\",frame)\n",
    "    \n",
    "    if cv2.waitKey(1) == 27:\n",
    "        break\n",
    "        \n",
    "cap.release()\n",
    "cv2.destroyAllWindows()"
   ]
  }
 ],
 "metadata": {
  "kernelspec": {
   "display_name": "Python 3 (ipykernel)",
   "language": "python",
   "name": "python3"
  },
  "language_info": {
   "codemirror_mode": {
    "name": "ipython",
    "version": 3
   },
   "file_extension": ".py",
   "mimetype": "text/x-python",
   "name": "python",
   "nbconvert_exporter": "python",
   "pygments_lexer": "ipython3",
   "version": "3.10.12"
  }
 },
 "nbformat": 4,
 "nbformat_minor": 5
}
